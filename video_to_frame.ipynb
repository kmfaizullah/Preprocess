{
 "cells": [
  {
   "cell_type": "code",
   "execution_count": 64,
   "metadata": {},
   "outputs": [],
   "source": [
    "import cv2 \n",
    "import os "
   ]
  },
  {
   "cell_type": "code",
   "execution_count": 65,
   "metadata": {},
   "outputs": [],
   "source": [
    "path='video/'\n",
    "dirs = os.listdir( path )"
   ]
  },
  {
   "cell_type": "code",
   "execution_count": 66,
   "metadata": {},
   "outputs": [],
   "source": [
    "for url in dirs:\n",
    "    cam = cv2.VideoCapture(path+url)\n",
    "    \n",
    "    currentframe = 0\n",
    "    if not os.path.exists('data/'+url): \n",
    "            os.makedirs('data/'+url) \n",
    "    while(True): \n",
    "\n",
    "        # reading from frame \n",
    "        ret,frame = cam.read() \n",
    "        #print(ret)\n",
    "\n",
    "        if ret: \n",
    "            # if video is still left continue creating images \n",
    "            name = './data/'+url+'/frame' + str(currentframe) + '.jpg'\n",
    "            #print ('Creating...' + name) \n",
    "\n",
    "            # writing the extracted images \n",
    "            cv2.imwrite(name, frame) \n",
    "\n",
    "            # increasing counter so that it will \n",
    "            # show how many frames are created \n",
    "            currentframe += 1\n",
    "        else: \n",
    "            break\n",
    "    cam.release() \n",
    "    cv2.destroyAllWindows() "
   ]
  },
  {
   "cell_type": "code",
   "execution_count": null,
   "metadata": {},
   "outputs": [],
   "source": []
  }
 ],
 "metadata": {
  "kernelspec": {
   "display_name": "Python 3",
   "language": "python",
   "name": "python3"
  },
  "language_info": {
   "codemirror_mode": {
    "name": "ipython",
    "version": 3
   },
   "file_extension": ".py",
   "mimetype": "text/x-python",
   "name": "python",
   "nbconvert_exporter": "python",
   "pygments_lexer": "ipython3",
   "version": "3.7.3"
  }
 },
 "nbformat": 4,
 "nbformat_minor": 2
}
