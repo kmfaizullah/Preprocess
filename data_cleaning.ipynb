{
 "cells": [
  {
   "cell_type": "code",
   "execution_count": 1,
   "metadata": {},
   "outputs": [],
   "source": [
    "import pandas as pd\n",
    "import numpy as np"
   ]
  },
  {
   "cell_type": "code",
   "execution_count": 63,
   "metadata": {},
   "outputs": [],
   "source": [
    "user_info=pd.read_csv('cse.tsv',delimiter='\\t',encoding='utf-8')"
   ]
  },
  {
   "cell_type": "code",
   "execution_count": 10,
   "metadata": {},
   "outputs": [],
   "source": [
    "user_info=pd.read_csv('Translated_datafile40 .csv',delimiter='\\t',encoding='utf-8')"
   ]
  },
  {
   "cell_type": "code",
   "execution_count": 12,
   "metadata": {},
   "outputs": [
    {
     "data": {
      "text/html": [
       "<div>\n",
       "<style scoped>\n",
       "    .dataframe tbody tr th:only-of-type {\n",
       "        vertical-align: middle;\n",
       "    }\n",
       "\n",
       "    .dataframe tbody tr th {\n",
       "        vertical-align: top;\n",
       "    }\n",
       "\n",
       "    .dataframe thead th {\n",
       "        text-align: right;\n",
       "    }\n",
       "</style>\n",
       "<table border=\"1\" class=\"dataframe\">\n",
       "  <thead>\n",
       "    <tr style=\"text-align: right;\">\n",
       "      <th></th>\n",
       "      <th>ID,Text,Caption</th>\n",
       "    </tr>\n",
       "  </thead>\n",
       "  <tbody>\n",
       "    <tr>\n",
       "      <th>0</th>\n",
       "      <td>3094278545_febac56382.j, একজন বউ সৈকতে তার হাত...</td>\n",
       "    </tr>\n",
       "    <tr>\n",
       "      <th>1</th>\n",
       "      <td>309430053_cc58bcc36a.j, নীল জলে ভাসমান একটি নৌকা</td>\n",
       "    </tr>\n",
       "    <tr>\n",
       "      <th>2</th>\n",
       "      <td>3094317837_b31cbf969e.j, একজন মানুষ স্রোতের উপ...</td>\n",
       "    </tr>\n",
       "    <tr>\n",
       "      <th>3</th>\n",
       "      <td>3094568845_d0b56c5651.j,  একটি রেস গাড়ি দর্শক...</td>\n",
       "    </tr>\n",
       "    <tr>\n",
       "      <th>4</th>\n",
       "      <td>3095137758_ বিড 1e613dd.j, সান্তা পোশাক পরা এক...</td>\n",
       "    </tr>\n",
       "  </tbody>\n",
       "</table>\n",
       "</div>"
      ],
      "text/plain": [
       "                                     ID,Text,Caption\n",
       "0  3094278545_febac56382.j, একজন বউ সৈকতে তার হাত...\n",
       "1   309430053_cc58bcc36a.j, নীল জলে ভাসমান একটি নৌকা\n",
       "2  3094317837_b31cbf969e.j, একজন মানুষ স্রোতের উপ...\n",
       "3  3094568845_d0b56c5651.j,  একটি রেস গাড়ি দর্শক...\n",
       "4  3095137758_ বিড 1e613dd.j, সান্তা পোশাক পরা এক..."
      ]
     },
     "execution_count": 12,
     "metadata": {},
     "output_type": "execute_result"
    }
   ],
   "source": [
    "user_info.head()"
   ]
  },
  {
   "cell_type": "code",
   "execution_count": 66,
   "metadata": {},
   "outputs": [],
   "source": [
    "user_info.rename(columns={'ID':'token',\n",
    "                          'TEXT':'english',\n",
    "                          'Unnamed: 2':'bangla','Unnamed: 3':'none'\n",
    "                         }, \n",
    "                 inplace=True)"
   ]
  },
  {
   "cell_type": "code",
   "execution_count": 67,
   "metadata": {},
   "outputs": [
    {
     "data": {
      "text/html": [
       "<div>\n",
       "<style scoped>\n",
       "    .dataframe tbody tr th:only-of-type {\n",
       "        vertical-align: middle;\n",
       "    }\n",
       "\n",
       "    .dataframe tbody tr th {\n",
       "        vertical-align: top;\n",
       "    }\n",
       "\n",
       "    .dataframe thead th {\n",
       "        text-align: right;\n",
       "    }\n",
       "</style>\n",
       "<table border=\"1\" class=\"dataframe\">\n",
       "  <thead>\n",
       "    <tr style=\"text-align: right;\">\n",
       "      <th></th>\n",
       "      <th>token</th>\n",
       "      <th>english</th>\n",
       "      <th>bangla</th>\n",
       "      <th>none</th>\n",
       "    </tr>\n",
       "  </thead>\n",
       "  <tbody>\n",
       "    <tr>\n",
       "      <th>0</th>\n",
       "      <td>1000092795.jpg#0</td>\n",
       "      <td>Two young guys with shaggy hair look at their ...</td>\n",
       "      <td>লম্বা চুলের দুই তরুণ ছেলেরা উঠানে আড্ডা দেওয়া ...</td>\n",
       "      <td>NaN</td>\n",
       "    </tr>\n",
       "    <tr>\n",
       "      <th>1</th>\n",
       "      <td>1000092795.jpg#1</td>\n",
       "      <td>Two young , White males are outside near many ...</td>\n",
       "      <td>NaN</td>\n",
       "      <td>NaN</td>\n",
       "    </tr>\n",
       "    <tr>\n",
       "      <th>2</th>\n",
       "      <td>1000092795.jpg#2</td>\n",
       "      <td>Two men in green shirts are standing in a yard .</td>\n",
       "      <td>NaN</td>\n",
       "      <td>NaN</td>\n",
       "    </tr>\n",
       "    <tr>\n",
       "      <th>3</th>\n",
       "      <td>1000092795.jpg#3</td>\n",
       "      <td>A man in a blue shirt standing in a garden .</td>\n",
       "      <td>NaN</td>\n",
       "      <td>NaN</td>\n",
       "    </tr>\n",
       "    <tr>\n",
       "      <th>4</th>\n",
       "      <td>1000092795.jpg#4</td>\n",
       "      <td>Two friends enjoy time spent together .</td>\n",
       "      <td>দুই বন্ধু একসঙ্গে সময় কাটানো উপভোগ করে।</td>\n",
       "      <td>NaN</td>\n",
       "    </tr>\n",
       "    <tr>\n",
       "      <th>5</th>\n",
       "      <td>10002456.jpg#0</td>\n",
       "      <td>Several men in hard hats are operating a giant...</td>\n",
       "      <td>NaN</td>\n",
       "      <td>NaN</td>\n",
       "    </tr>\n",
       "    <tr>\n",
       "      <th>6</th>\n",
       "      <td>10002456.jpg#1</td>\n",
       "      <td>Workers look down from up above on a piece of ...</td>\n",
       "      <td>NaN</td>\n",
       "      <td>NaN</td>\n",
       "    </tr>\n",
       "    <tr>\n",
       "      <th>7</th>\n",
       "      <td>10002456.jpg#2</td>\n",
       "      <td>Two men working on a machine wearing hard hats .</td>\n",
       "      <td>NaN</td>\n",
       "      <td>NaN</td>\n",
       "    </tr>\n",
       "    <tr>\n",
       "      <th>8</th>\n",
       "      <td>10002456.jpg#3</td>\n",
       "      <td>Four men on top of a tall structure .</td>\n",
       "      <td>NaN</td>\n",
       "      <td>NaN</td>\n",
       "    </tr>\n",
       "    <tr>\n",
       "      <th>9</th>\n",
       "      <td>10002456.jpg#4</td>\n",
       "      <td>Three men on a large rig .</td>\n",
       "      <td>NaN</td>\n",
       "      <td>NaN</td>\n",
       "    </tr>\n",
       "  </tbody>\n",
       "</table>\n",
       "</div>"
      ],
      "text/plain": [
       "              token                                            english  \\\n",
       "0  1000092795.jpg#0  Two young guys with shaggy hair look at their ...   \n",
       "1  1000092795.jpg#1  Two young , White males are outside near many ...   \n",
       "2  1000092795.jpg#2   Two men in green shirts are standing in a yard .   \n",
       "3  1000092795.jpg#3       A man in a blue shirt standing in a garden .   \n",
       "4  1000092795.jpg#4            Two friends enjoy time spent together .   \n",
       "5    10002456.jpg#0  Several men in hard hats are operating a giant...   \n",
       "6    10002456.jpg#1  Workers look down from up above on a piece of ...   \n",
       "7    10002456.jpg#2   Two men working on a machine wearing hard hats .   \n",
       "8    10002456.jpg#3              Four men on top of a tall structure .   \n",
       "9    10002456.jpg#4                         Three men on a large rig .   \n",
       "\n",
       "                                              bangla none  \n",
       "0  লম্বা চুলের দুই তরুণ ছেলেরা উঠানে আড্ডা দেওয়া ...  NaN  \n",
       "1                                                NaN  NaN  \n",
       "2                                                NaN  NaN  \n",
       "3                                                NaN  NaN  \n",
       "4           দুই বন্ধু একসঙ্গে সময় কাটানো উপভোগ করে।  NaN  \n",
       "5                                                NaN  NaN  \n",
       "6                                                NaN  NaN  \n",
       "7                                                NaN  NaN  \n",
       "8                                                NaN  NaN  \n",
       "9                                                NaN  NaN  "
      ]
     },
     "execution_count": 67,
     "metadata": {},
     "output_type": "execute_result"
    }
   ],
   "source": [
    "user_info.head(10)\n"
   ]
  },
  {
   "cell_type": "code",
   "execution_count": 91,
   "metadata": {},
   "outputs": [],
   "source": [
    "df1=user_info['english']"
   ]
  },
  {
   "cell_type": "code",
   "execution_count": 92,
   "metadata": {},
   "outputs": [],
   "source": [
    "df2=user_info['bangla']"
   ]
  },
  {
   "cell_type": "code",
   "execution_count": 94,
   "metadata": {},
   "outputs": [
    {
     "data": {
      "text/plain": [
       "0    Two young guys with shaggy hair look at their ...\n",
       "1    Two young , White males are outside near many ...\n",
       "2     Two men in green shirts are standing in a yard .\n",
       "3         A man in a blue shirt standing in a garden .\n",
       "4              Two friends enjoy time spent together .\n",
       "Name: english, dtype: object"
      ]
     },
     "execution_count": 94,
     "metadata": {},
     "output_type": "execute_result"
    }
   ],
   "source": [
    "df1.head()"
   ]
  },
  {
   "cell_type": "code",
   "execution_count": 69,
   "metadata": {},
   "outputs": [
    {
     "data": {
      "text/plain": [
       "92795"
      ]
     },
     "execution_count": 69,
     "metadata": {},
     "output_type": "execute_result"
    }
   ],
   "source": [
    "int(df[1][1:-6])"
   ]
  },
  {
   "cell_type": "code",
   "execution_count": 79,
   "metadata": {},
   "outputs": [],
   "source": [
    "li=[]\n",
    "for i in df:\n",
    "    k= i[ :-6]\n",
    "    p = int(k)\n",
    "    li.append(p)\n",
    "    if \".\" in k:\n",
    "        print(k)"
   ]
  },
  {
   "cell_type": "code",
   "execution_count": 123,
   "metadata": {},
   "outputs": [],
   "source": [
    "df3 = pd.DataFrame(np.array(li).reshape(len(li),1))"
   ]
  },
  {
   "cell_type": "code",
   "execution_count": 124,
   "metadata": {},
   "outputs": [],
   "source": [
    "df3.columns = ['token']"
   ]
  },
  {
   "cell_type": "code",
   "execution_count": 125,
   "metadata": {},
   "outputs": [
    {
     "data": {
      "text/html": [
       "<div>\n",
       "<style scoped>\n",
       "    .dataframe tbody tr th:only-of-type {\n",
       "        vertical-align: middle;\n",
       "    }\n",
       "\n",
       "    .dataframe tbody tr th {\n",
       "        vertical-align: top;\n",
       "    }\n",
       "\n",
       "    .dataframe thead th {\n",
       "        text-align: right;\n",
       "    }\n",
       "</style>\n",
       "<table border=\"1\" class=\"dataframe\">\n",
       "  <thead>\n",
       "    <tr style=\"text-align: right;\">\n",
       "      <th></th>\n",
       "      <th>token</th>\n",
       "    </tr>\n",
       "  </thead>\n",
       "  <tbody>\n",
       "    <tr>\n",
       "      <th>0</th>\n",
       "      <td>1000092795</td>\n",
       "    </tr>\n",
       "    <tr>\n",
       "      <th>1</th>\n",
       "      <td>1000092795</td>\n",
       "    </tr>\n",
       "    <tr>\n",
       "      <th>2</th>\n",
       "      <td>1000092795</td>\n",
       "    </tr>\n",
       "    <tr>\n",
       "      <th>3</th>\n",
       "      <td>1000092795</td>\n",
       "    </tr>\n",
       "    <tr>\n",
       "      <th>4</th>\n",
       "      <td>1000092795</td>\n",
       "    </tr>\n",
       "  </tbody>\n",
       "</table>\n",
       "</div>"
      ],
      "text/plain": [
       "        token\n",
       "0  1000092795\n",
       "1  1000092795\n",
       "2  1000092795\n",
       "3  1000092795\n",
       "4  1000092795"
      ]
     },
     "execution_count": 125,
     "metadata": {},
     "output_type": "execute_result"
    }
   ],
   "source": [
    "df3.head()"
   ]
  },
  {
   "cell_type": "code",
   "execution_count": 126,
   "metadata": {},
   "outputs": [],
   "source": [
    "df=pd.concat([df3, df1,df2], axis=1)"
   ]
  },
  {
   "cell_type": "code",
   "execution_count": 127,
   "metadata": {},
   "outputs": [
    {
     "data": {
      "text/html": [
       "<div>\n",
       "<style scoped>\n",
       "    .dataframe tbody tr th:only-of-type {\n",
       "        vertical-align: middle;\n",
       "    }\n",
       "\n",
       "    .dataframe tbody tr th {\n",
       "        vertical-align: top;\n",
       "    }\n",
       "\n",
       "    .dataframe thead th {\n",
       "        text-align: right;\n",
       "    }\n",
       "</style>\n",
       "<table border=\"1\" class=\"dataframe\">\n",
       "  <thead>\n",
       "    <tr style=\"text-align: right;\">\n",
       "      <th></th>\n",
       "      <th>token</th>\n",
       "      <th>english</th>\n",
       "      <th>bangla</th>\n",
       "    </tr>\n",
       "  </thead>\n",
       "  <tbody>\n",
       "    <tr>\n",
       "      <th>0</th>\n",
       "      <td>1000092795</td>\n",
       "      <td>Two young guys with shaggy hair look at their ...</td>\n",
       "      <td>লম্বা চুলের দুই তরুণ ছেলেরা উঠানে আড্ডা দেওয়া ...</td>\n",
       "    </tr>\n",
       "    <tr>\n",
       "      <th>1</th>\n",
       "      <td>1000092795</td>\n",
       "      <td>Two young , White males are outside near many ...</td>\n",
       "      <td>NaN</td>\n",
       "    </tr>\n",
       "    <tr>\n",
       "      <th>2</th>\n",
       "      <td>1000092795</td>\n",
       "      <td>Two men in green shirts are standing in a yard .</td>\n",
       "      <td>NaN</td>\n",
       "    </tr>\n",
       "    <tr>\n",
       "      <th>3</th>\n",
       "      <td>1000092795</td>\n",
       "      <td>A man in a blue shirt standing in a garden .</td>\n",
       "      <td>NaN</td>\n",
       "    </tr>\n",
       "    <tr>\n",
       "      <th>4</th>\n",
       "      <td>1000092795</td>\n",
       "      <td>Two friends enjoy time spent together .</td>\n",
       "      <td>দুই বন্ধু একসঙ্গে সময় কাটানো উপভোগ করে।</td>\n",
       "    </tr>\n",
       "  </tbody>\n",
       "</table>\n",
       "</div>"
      ],
      "text/plain": [
       "        token                                            english  \\\n",
       "0  1000092795  Two young guys with shaggy hair look at their ...   \n",
       "1  1000092795  Two young , White males are outside near many ...   \n",
       "2  1000092795   Two men in green shirts are standing in a yard .   \n",
       "3  1000092795       A man in a blue shirt standing in a garden .   \n",
       "4  1000092795            Two friends enjoy time spent together .   \n",
       "\n",
       "                                              bangla  \n",
       "0  লম্বা চুলের দুই তরুণ ছেলেরা উঠানে আড্ডা দেওয়া ...  \n",
       "1                                                NaN  \n",
       "2                                                NaN  \n",
       "3                                                NaN  \n",
       "4           দুই বন্ধু একসঙ্গে সময় কাটানো উপভোগ করে।  "
      ]
     },
     "execution_count": 127,
     "metadata": {},
     "output_type": "execute_result"
    }
   ],
   "source": [
    "df.head()"
   ]
  },
  {
   "cell_type": "code",
   "execution_count": 134,
   "metadata": {},
   "outputs": [
    {
     "data": {
      "text/html": [
       "<div>\n",
       "<style scoped>\n",
       "    .dataframe tbody tr th:only-of-type {\n",
       "        vertical-align: middle;\n",
       "    }\n",
       "\n",
       "    .dataframe tbody tr th {\n",
       "        vertical-align: top;\n",
       "    }\n",
       "\n",
       "    .dataframe thead th {\n",
       "        text-align: right;\n",
       "    }\n",
       "</style>\n",
       "<table border=\"1\" class=\"dataframe\">\n",
       "  <thead>\n",
       "    <tr style=\"text-align: right;\">\n",
       "      <th></th>\n",
       "      <th>token</th>\n",
       "      <th>english</th>\n",
       "      <th>bangla</th>\n",
       "    </tr>\n",
       "  </thead>\n",
       "  <tbody>\n",
       "    <tr>\n",
       "      <th>0</th>\n",
       "      <td>1000092795</td>\n",
       "      <td>Two young guys with shaggy hair look at their ...</td>\n",
       "      <td>লম্বা চুলের দুই তরুণ ছেলেরা উঠানে আড্ডা দেওয়া ...</td>\n",
       "    </tr>\n",
       "    <tr>\n",
       "      <th>1</th>\n",
       "      <td>1000092795</td>\n",
       "      <td>Two young , White males are outside near many ...</td>\n",
       "      <td>NaN</td>\n",
       "    </tr>\n",
       "    <tr>\n",
       "      <th>2</th>\n",
       "      <td>1000092795</td>\n",
       "      <td>Two men in green shirts are standing in a yard .</td>\n",
       "      <td>NaN</td>\n",
       "    </tr>\n",
       "    <tr>\n",
       "      <th>3</th>\n",
       "      <td>1000092795</td>\n",
       "      <td>A man in a blue shirt standing in a garden .</td>\n",
       "      <td>NaN</td>\n",
       "    </tr>\n",
       "    <tr>\n",
       "      <th>4</th>\n",
       "      <td>1000092795</td>\n",
       "      <td>Two friends enjoy time spent together .</td>\n",
       "      <td>দুই বন্ধু একসঙ্গে সময় কাটানো উপভোগ করে।</td>\n",
       "    </tr>\n",
       "  </tbody>\n",
       "</table>\n",
       "</div>"
      ],
      "text/plain": [
       "        token                                            english  \\\n",
       "0  1000092795  Two young guys with shaggy hair look at their ...   \n",
       "1  1000092795  Two young , White males are outside near many ...   \n",
       "2  1000092795   Two men in green shirts are standing in a yard .   \n",
       "3  1000092795       A man in a blue shirt standing in a garden .   \n",
       "4  1000092795            Two friends enjoy time spent together .   \n",
       "\n",
       "                                              bangla  \n",
       "0  লম্বা চুলের দুই তরুণ ছেলেরা উঠানে আড্ডা দেওয়া ...  \n",
       "1                                                NaN  \n",
       "2                                                NaN  \n",
       "3                                                NaN  \n",
       "4           দুই বন্ধু একসঙ্গে সময় কাটানো উপভোগ করে।  "
      ]
     },
     "execution_count": 134,
     "metadata": {},
     "output_type": "execute_result"
    }
   ],
   "source": [
    "df.head()"
   ]
  },
  {
   "cell_type": "code",
   "execution_count": 132,
   "metadata": {},
   "outputs": [],
   "source": [
    "final=df.sort_values(by=['token'])"
   ]
  },
  {
   "cell_type": "code",
   "execution_count": 63,
   "metadata": {},
   "outputs": [],
   "source": [
    "df1=pd.read_csv('new_jumar.tsv',delimiter='\\t',encoding='utf-8')"
   ]
  },
  {
   "cell_type": "code",
   "execution_count": 125,
   "metadata": {},
   "outputs": [
    {
     "data": {
      "text/html": [
       "<div>\n",
       "<style scoped>\n",
       "    .dataframe tbody tr th:only-of-type {\n",
       "        vertical-align: middle;\n",
       "    }\n",
       "\n",
       "    .dataframe tbody tr th {\n",
       "        vertical-align: top;\n",
       "    }\n",
       "\n",
       "    .dataframe thead th {\n",
       "        text-align: right;\n",
       "    }\n",
       "</style>\n",
       "<table border=\"1\" class=\"dataframe\">\n",
       "  <thead>\n",
       "    <tr style=\"text-align: right;\">\n",
       "      <th></th>\n",
       "      <th>ID</th>\n",
       "      <th>english</th>\n",
       "      <th>BN</th>\n",
       "    </tr>\n",
       "  </thead>\n",
       "  <tbody>\n",
       "    <tr>\n",
       "      <th>0</th>\n",
       "      <td>2448741990.jpg#0</td>\n",
       "      <td>An ATV rider clothed in red and black protecti...</td>\n",
       "      <td>হেলমেট পরা একজন লোক গাড়ি চালিয়ে যাচ্ছে ।</td>\n",
       "    </tr>\n",
       "    <tr>\n",
       "      <th>1</th>\n",
       "      <td>2448793019.jpg#0</td>\n",
       "      <td>A young child wearing sunglasses is at the bas...</td>\n",
       "      <td>চশমা পরা বাচ্চা ছেলেটি নীল রঙের একটি স্লাইড এর...</td>\n",
       "    </tr>\n",
       "    <tr>\n",
       "      <th>2</th>\n",
       "      <td>244910130.jpg#2</td>\n",
       "      <td>A man with glasses and a beard sitting in the ...</td>\n",
       "      <td>চশমা পরা এবং দাড়িওয়ালা এক জন লোক ঘাসের ওপর বসে...</td>\n",
       "    </tr>\n",
       "    <tr>\n",
       "      <th>3</th>\n",
       "      <td>244910177.jpg#0</td>\n",
       "      <td>Three woman walk down a city street and one ha...</td>\n",
       "      <td>তিন জন মহিলা রাস্তা দিয়ে হেঁটে যাচ্ছে ।</td>\n",
       "    </tr>\n",
       "    <tr>\n",
       "      <th>4</th>\n",
       "      <td>2449289139.jpg#3</td>\n",
       "      <td>A dog running in a park .</td>\n",
       "      <td>একটি কুকুর পার্কে দৌড়াচ্ছে।</td>\n",
       "    </tr>\n",
       "  </tbody>\n",
       "</table>\n",
       "</div>"
      ],
      "text/plain": [
       "                 ID                                            english  \\\n",
       "0  2448741990.jpg#0  An ATV rider clothed in red and black protecti...   \n",
       "1  2448793019.jpg#0  A young child wearing sunglasses is at the bas...   \n",
       "2   244910130.jpg#2  A man with glasses and a beard sitting in the ...   \n",
       "3   244910177.jpg#0  Three woman walk down a city street and one ha...   \n",
       "4  2449289139.jpg#3                          A dog running in a park .   \n",
       "\n",
       "                                                  BN  \n",
       "0          হেলমেট পরা একজন লোক গাড়ি চালিয়ে যাচ্ছে ।   \n",
       "1  চশমা পরা বাচ্চা ছেলেটি নীল রঙের একটি স্লাইড এর...  \n",
       "2  চশমা পরা এবং দাড়িওয়ালা এক জন লোক ঘাসের ওপর বসে...  \n",
       "3            তিন জন মহিলা রাস্তা দিয়ে হেঁটে যাচ্ছে ।  \n",
       "4                        একটি কুকুর পার্কে দৌড়াচ্ছে।  "
      ]
     },
     "execution_count": 125,
     "metadata": {},
     "output_type": "execute_result"
    }
   ],
   "source": [
    "df1.head()"
   ]
  },
  {
   "cell_type": "code",
   "execution_count": 65,
   "metadata": {},
   "outputs": [],
   "source": [
    "k=df1['ID']\n"
   ]
  },
  {
   "cell_type": "code",
   "execution_count": 66,
   "metadata": {},
   "outputs": [],
   "source": [
    "p=df1['BN']"
   ]
  },
  {
   "cell_type": "code",
   "execution_count": 67,
   "metadata": {},
   "outputs": [],
   "source": [
    "df5=pd.concat([k, p], axis=1)"
   ]
  },
  {
   "cell_type": "code",
   "execution_count": 124,
   "metadata": {},
   "outputs": [
    {
     "data": {
      "text/html": [
       "<div>\n",
       "<style scoped>\n",
       "    .dataframe tbody tr th:only-of-type {\n",
       "        vertical-align: middle;\n",
       "    }\n",
       "\n",
       "    .dataframe tbody tr th {\n",
       "        vertical-align: top;\n",
       "    }\n",
       "\n",
       "    .dataframe thead th {\n",
       "        text-align: right;\n",
       "    }\n",
       "</style>\n",
       "<table border=\"1\" class=\"dataframe\">\n",
       "  <thead>\n",
       "    <tr style=\"text-align: right;\">\n",
       "      <th></th>\n",
       "      <th>ID</th>\n",
       "      <th>BN</th>\n",
       "    </tr>\n",
       "  </thead>\n",
       "  <tbody>\n",
       "    <tr>\n",
       "      <th>0</th>\n",
       "      <td>1000092795.jpg</td>\n",
       "      <td>লম্বা চুলের দুই তরুণ ছেলেরা উঠানে আড্ডা দেওয়া ...</td>\n",
       "    </tr>\n",
       "    <tr>\n",
       "      <th>1</th>\n",
       "      <td>1000092795.jpg</td>\n",
       "      <td>দুই বন্ধু একসঙ্গে সময় কাটানো উপভোগ করে।</td>\n",
       "    </tr>\n",
       "    <tr>\n",
       "      <th>2</th>\n",
       "      <td>1000268201.jpg</td>\n",
       "      <td>একটি মেয়ে একটি কাঠের ভবনে যাচ্ছে।</td>\n",
       "    </tr>\n",
       "    <tr>\n",
       "      <th>3</th>\n",
       "      <td>1000344755.jpg</td>\n",
       "      <td>নীল শার্ট পরিহিত একটি লোক একটি মইয়ের উপর দাড়িয়...</td>\n",
       "    </tr>\n",
       "    <tr>\n",
       "      <th>4</th>\n",
       "      <td>1000344755.jpg</td>\n",
       "      <td>একটি লোক একটি মইয়ের উপর দাড়িয়ে উঁচু ভবনের জানা...</td>\n",
       "    </tr>\n",
       "  </tbody>\n",
       "</table>\n",
       "</div>"
      ],
      "text/plain": [
       "               ID                                                 BN\n",
       "0  1000092795.jpg  লম্বা চুলের দুই তরুণ ছেলেরা উঠানে আড্ডা দেওয়া ...\n",
       "1  1000092795.jpg           দুই বন্ধু একসঙ্গে সময় কাটানো উপভোগ করে।\n",
       "2  1000268201.jpg                 একটি মেয়ে একটি কাঠের ভবনে যাচ্ছে।\n",
       "3  1000344755.jpg  নীল শার্ট পরিহিত একটি লোক একটি মইয়ের উপর দাড়িয়...\n",
       "4  1000344755.jpg  একটি লোক একটি মইয়ের উপর দাড়িয়ে উঁচু ভবনের জানা..."
      ]
     },
     "execution_count": 124,
     "metadata": {},
     "output_type": "execute_result"
    }
   ],
   "source": [
    "df5.head()"
   ]
  },
  {
   "cell_type": "code",
   "execution_count": null,
   "metadata": {},
   "outputs": [],
   "source": [
    "df = pd.DataFrame(final, columns= ['token', 'english','bangla'])"
   ]
  },
  {
   "cell_type": "code",
   "execution_count": 69,
   "metadata": {},
   "outputs": [],
   "source": [
    "df1=pd.read_csv('data_tuba.tsv',delimiter='\\t',encoding='utf-8',names=['ID','english','BN'])"
   ]
  },
  {
   "cell_type": "code",
   "execution_count": 87,
   "metadata": {},
   "outputs": [],
   "source": [
    "f= df1['ID']"
   ]
  },
  {
   "cell_type": "code",
   "execution_count": 109,
   "metadata": {},
   "outputs": [],
   "source": [
    "p=f.tolist()"
   ]
  },
  {
   "cell_type": "code",
   "execution_count": 133,
   "metadata": {},
   "outputs": [
    {
     "data": {
      "text/plain": [
       "606"
      ]
     },
     "execution_count": 133,
     "metadata": {},
     "output_type": "execute_result"
    }
   ],
   "source": [
    "len(p)"
   ]
  },
  {
   "cell_type": "code",
   "execution_count": 137,
   "metadata": {},
   "outputs": [],
   "source": [
    "li=[]"
   ]
  },
  {
   "cell_type": "code",
   "execution_count": 138,
   "metadata": {},
   "outputs": [],
   "source": [
    "for k in range (len(p)):\n",
    "    z= f[k][:-2]\n",
    "    li.append(z)"
   ]
  },
  {
   "cell_type": "code",
   "execution_count": 139,
   "metadata": {},
   "outputs": [
    {
     "data": {
      "text/plain": [
       "606"
      ]
     },
     "execution_count": 139,
     "metadata": {},
     "output_type": "execute_result"
    }
   ],
   "source": [
    "len(li)"
   ]
  },
  {
   "cell_type": "code",
   "execution_count": 140,
   "metadata": {},
   "outputs": [],
   "source": [
    "id = pd.DataFrame(li,columns = ['ID']) "
   ]
  },
  {
   "cell_type": "code",
   "execution_count": 141,
   "metadata": {},
   "outputs": [
    {
     "data": {
      "text/html": [
       "<div>\n",
       "<style scoped>\n",
       "    .dataframe tbody tr th:only-of-type {\n",
       "        vertical-align: middle;\n",
       "    }\n",
       "\n",
       "    .dataframe tbody tr th {\n",
       "        vertical-align: top;\n",
       "    }\n",
       "\n",
       "    .dataframe thead th {\n",
       "        text-align: right;\n",
       "    }\n",
       "</style>\n",
       "<table border=\"1\" class=\"dataframe\">\n",
       "  <thead>\n",
       "    <tr style=\"text-align: right;\">\n",
       "      <th></th>\n",
       "      <th>ID</th>\n",
       "    </tr>\n",
       "  </thead>\n",
       "  <tbody>\n",
       "    <tr>\n",
       "      <th>0</th>\n",
       "      <td>2448741990.jpg</td>\n",
       "    </tr>\n",
       "    <tr>\n",
       "      <th>1</th>\n",
       "      <td>2448793019.jpg</td>\n",
       "    </tr>\n",
       "    <tr>\n",
       "      <th>2</th>\n",
       "      <td>244910130.jpg</td>\n",
       "    </tr>\n",
       "    <tr>\n",
       "      <th>3</th>\n",
       "      <td>244910177.jpg</td>\n",
       "    </tr>\n",
       "    <tr>\n",
       "      <th>4</th>\n",
       "      <td>2449289139.jpg</td>\n",
       "    </tr>\n",
       "  </tbody>\n",
       "</table>\n",
       "</div>"
      ],
      "text/plain": [
       "               ID\n",
       "0  2448741990.jpg\n",
       "1  2448793019.jpg\n",
       "2   244910130.jpg\n",
       "3   244910177.jpg\n",
       "4  2449289139.jpg"
      ]
     },
     "execution_count": 141,
     "metadata": {},
     "output_type": "execute_result"
    }
   ],
   "source": [
    "id.head()"
   ]
  },
  {
   "cell_type": "code",
   "execution_count": 142,
   "metadata": {},
   "outputs": [],
   "source": [
    "t=  df1['BN']"
   ]
  },
  {
   "cell_type": "code",
   "execution_count": 143,
   "metadata": {},
   "outputs": [],
   "source": [
    "df10= pd.concat([id, t], axis=1)"
   ]
  },
  {
   "cell_type": "code",
   "execution_count": 302,
   "metadata": {},
   "outputs": [
    {
     "data": {
      "text/html": [
       "<div>\n",
       "<style scoped>\n",
       "    .dataframe tbody tr th:only-of-type {\n",
       "        vertical-align: middle;\n",
       "    }\n",
       "\n",
       "    .dataframe tbody tr th {\n",
       "        vertical-align: top;\n",
       "    }\n",
       "\n",
       "    .dataframe thead th {\n",
       "        text-align: right;\n",
       "    }\n",
       "</style>\n",
       "<table border=\"1\" class=\"dataframe\">\n",
       "  <thead>\n",
       "    <tr style=\"text-align: right;\">\n",
       "      <th></th>\n",
       "      <th>ID</th>\n",
       "      <th>BN</th>\n",
       "    </tr>\n",
       "  </thead>\n",
       "  <tbody>\n",
       "    <tr>\n",
       "      <th>0</th>\n",
       "      <td>2448741990.jpg</td>\n",
       "      <td>হেলমেট পরা একজন লোক গাড়ি চালিয়ে যাচ্ছে ।</td>\n",
       "    </tr>\n",
       "    <tr>\n",
       "      <th>1</th>\n",
       "      <td>2448793019.jpg</td>\n",
       "      <td>চশমা পরা বাচ্চা ছেলেটি নীল রঙের একটি স্লাইড এর...</td>\n",
       "    </tr>\n",
       "    <tr>\n",
       "      <th>2</th>\n",
       "      <td>244910130.jpg</td>\n",
       "      <td>চশমা পরা এবং দাড়িওয়ালা এক জন লোক ঘাসের ওপর বসে...</td>\n",
       "    </tr>\n",
       "    <tr>\n",
       "      <th>3</th>\n",
       "      <td>244910177.jpg</td>\n",
       "      <td>তিন জন মহিলা রাস্তা দিয়ে হেঁটে যাচ্ছে ।</td>\n",
       "    </tr>\n",
       "    <tr>\n",
       "      <th>4</th>\n",
       "      <td>2449289139.jpg</td>\n",
       "      <td>একটি কুকুর পার্কে দৌড়াচ্ছে।</td>\n",
       "    </tr>\n",
       "  </tbody>\n",
       "</table>\n",
       "</div>"
      ],
      "text/plain": [
       "               ID                                                 BN\n",
       "0  2448741990.jpg          হেলমেট পরা একজন লোক গাড়ি চালিয়ে যাচ্ছে । \n",
       "1  2448793019.jpg  চশমা পরা বাচ্চা ছেলেটি নীল রঙের একটি স্লাইড এর...\n",
       "2   244910130.jpg  চশমা পরা এবং দাড়িওয়ালা এক জন লোক ঘাসের ওপর বসে...\n",
       "3   244910177.jpg            তিন জন মহিলা রাস্তা দিয়ে হেঁটে যাচ্ছে ।\n",
       "4  2449289139.jpg                        একটি কুকুর পার্কে দৌড়াচ্ছে।"
      ]
     },
     "execution_count": 302,
     "metadata": {},
     "output_type": "execute_result"
    }
   ],
   "source": [
    "df10.head()"
   ]
  },
  {
   "cell_type": "code",
   "execution_count": 145,
   "metadata": {},
   "outputs": [],
   "source": [
    "df_row = pd.concat([df5, df10])"
   ]
  },
  {
   "cell_type": "code",
   "execution_count": 146,
   "metadata": {},
   "outputs": [
    {
     "data": {
      "text/plain": [
       "2516"
      ]
     },
     "execution_count": 146,
     "metadata": {},
     "output_type": "execute_result"
    }
   ],
   "source": [
    "len(df_row)"
   ]
  },
  {
   "cell_type": "code",
   "execution_count": 147,
   "metadata": {},
   "outputs": [],
   "source": [
    "df_row.to_csv('tuba_jumar_combine_data.csv',index=False)"
   ]
  },
  {
   "cell_type": "code",
   "execution_count": 293,
   "metadata": {},
   "outputs": [],
   "source": [
    "ids=df_row['ID']\n",
    "ids = ids.tolist()"
   ]
  },
  {
   "cell_type": "code",
   "execution_count": 150,
   "metadata": {},
   "outputs": [
    {
     "data": {
      "text/plain": [
       "0    1000092795.jpg\n",
       "1    1000092795.jpg\n",
       "2    1000268201.jpg\n",
       "3    1000344755.jpg\n",
       "4    1000344755.jpg\n",
       "Name: ID, dtype: object"
      ]
     },
     "execution_count": 150,
     "metadata": {},
     "output_type": "execute_result"
    }
   ],
   "source": [
    "id.head()"
   ]
  },
  {
   "cell_type": "code",
   "execution_count": 151,
   "metadata": {},
   "outputs": [],
   "source": [
    "text=df_row['BN']"
   ]
  },
  {
   "cell_type": "code",
   "execution_count": 153,
   "metadata": {},
   "outputs": [
    {
     "data": {
      "text/plain": [
       "0    লম্বা চুলের দুই তরুণ ছেলেরা উঠানে আড্ডা দেওয়া ...\n",
       "1             দুই বন্ধু একসঙ্গে সময় কাটানো উপভোগ করে।\n",
       "2                   একটি মেয়ে একটি কাঠের ভবনে যাচ্ছে।\n",
       "3    নীল শার্ট পরিহিত একটি লোক একটি মইয়ের উপর দাড়িয়...\n",
       "4    একটি লোক একটি মইয়ের উপর দাড়িয়ে উঁচু ভবনের জানা...\n",
       "Name: BN, dtype: object"
      ]
     },
     "execution_count": 153,
     "metadata": {},
     "output_type": "execute_result"
    }
   ],
   "source": [
    "text.head()"
   ]
  },
  {
   "cell_type": "code",
   "execution_count": 201,
   "metadata": {},
   "outputs": [],
   "source": [
    "lt=text.tolist()"
   ]
  },
  {
   "cell_type": "code",
   "execution_count": 202,
   "metadata": {},
   "outputs": [
    {
     "data": {
      "text/plain": [
       "2516"
      ]
     },
     "execution_count": 202,
     "metadata": {},
     "output_type": "execute_result"
    }
   ],
   "source": [
    "len(lt)"
   ]
  },
  {
   "cell_type": "code",
   "execution_count": 230,
   "metadata": {},
   "outputs": [],
   "source": [
    "li1=[]\n",
    "for x in range (len(lt)):\n",
    "    p=clean(lt[x])\n",
    "    li1.append(p)\n",
    "    "
   ]
  },
  {
   "cell_type": "code",
   "execution_count": 231,
   "metadata": {},
   "outputs": [
    {
     "data": {
      "text/plain": [
       "2516"
      ]
     },
     "execution_count": 231,
     "metadata": {},
     "output_type": "execute_result"
    }
   ],
   "source": [
    "len(li1)"
   ]
  },
  {
   "cell_type": "code",
   "execution_count": 267,
   "metadata": {},
   "outputs": [],
   "source": [
    "def clean(string):\n",
    "    \n",
    "    value=[',','\"','।','!','&','$','*','-','_','+','।']\n",
    "    # To take input from the user\n",
    "    # my_str = input(\"Enter a string: \")\n",
    "\n",
    "    # remove punctuation from the string\n",
    "    no_punct = \"\"\n",
    "    for char in string:\n",
    "        if char not in value:\n",
    "            no_punct = no_punct + char\n",
    "\n",
    "    # display the unpunctuated string\n",
    "    return no_punct"
   ]
  },
  {
   "cell_type": "code",
   "execution_count": 269,
   "metadata": {},
   "outputs": [],
   "source": [
    "li2=[]\n",
    "for x in range (len(lt)):\n",
    "    p=clean(lt[x])\n",
    "    li2.append(p)"
   ]
  },
  {
   "cell_type": "code",
   "execution_count": 285,
   "metadata": {},
   "outputs": [],
   "source": [
    "text = pd.DataFrame(li2,columns = ['text']) \n"
   ]
  },
  {
   "cell_type": "code",
   "execution_count": 286,
   "metadata": {},
   "outputs": [
    {
     "data": {
      "text/html": [
       "<div>\n",
       "<style scoped>\n",
       "    .dataframe tbody tr th:only-of-type {\n",
       "        vertical-align: middle;\n",
       "    }\n",
       "\n",
       "    .dataframe tbody tr th {\n",
       "        vertical-align: top;\n",
       "    }\n",
       "\n",
       "    .dataframe thead th {\n",
       "        text-align: right;\n",
       "    }\n",
       "</style>\n",
       "<table border=\"1\" class=\"dataframe\">\n",
       "  <thead>\n",
       "    <tr style=\"text-align: right;\">\n",
       "      <th></th>\n",
       "      <th>text</th>\n",
       "    </tr>\n",
       "  </thead>\n",
       "  <tbody>\n",
       "    <tr>\n",
       "      <th>0</th>\n",
       "      <td>লম্বা চুলের দুই তরুণ ছেলেরা উঠানে আড্ডা দেওয়া ...</td>\n",
       "    </tr>\n",
       "    <tr>\n",
       "      <th>1</th>\n",
       "      <td>দুই বন্ধু একসঙ্গে সময় কাটানো উপভোগ করে</td>\n",
       "    </tr>\n",
       "    <tr>\n",
       "      <th>2</th>\n",
       "      <td>একটি মেয়ে একটি কাঠের ভবনে যাচ্ছে</td>\n",
       "    </tr>\n",
       "    <tr>\n",
       "      <th>3</th>\n",
       "      <td>নীল শার্ট পরিহিত একটি লোক একটি মইয়ের উপর দাড়িয়...</td>\n",
       "    </tr>\n",
       "    <tr>\n",
       "      <th>4</th>\n",
       "      <td>একটি লোক একটি মইয়ের উপর দাড়িয়ে উঁচু ভবনের জানা...</td>\n",
       "    </tr>\n",
       "  </tbody>\n",
       "</table>\n",
       "</div>"
      ],
      "text/plain": [
       "                                                text\n",
       "0  লম্বা চুলের দুই তরুণ ছেলেরা উঠানে আড্ডা দেওয়া ...\n",
       "1            দুই বন্ধু একসঙ্গে সময় কাটানো উপভোগ করে\n",
       "2                  একটি মেয়ে একটি কাঠের ভবনে যাচ্ছে\n",
       "3  নীল শার্ট পরিহিত একটি লোক একটি মইয়ের উপর দাড়িয়...\n",
       "4  একটি লোক একটি মইয়ের উপর দাড়িয়ে উঁচু ভবনের জানা..."
      ]
     },
     "execution_count": 286,
     "metadata": {},
     "output_type": "execute_result"
    }
   ],
   "source": [
    "text.head()"
   ]
  },
  {
   "cell_type": "code",
   "execution_count": 294,
   "metadata": {},
   "outputs": [],
   "source": [
    "export = {\"id\": ids, \"caption\":li2}\n",
    "\n",
    "dff = pd.DataFrame(export) "
   ]
  },
  {
   "cell_type": "code",
   "execution_count": 298,
   "metadata": {},
   "outputs": [],
   "source": [
    "dff.to_csv(\"newdata.csv\",index=False)"
   ]
  }
 ],
 "metadata": {
  "kernelspec": {
   "display_name": "Python 3",
   "language": "python",
   "name": "python3"
  },
  "language_info": {
   "codemirror_mode": {
    "name": "ipython",
    "version": 3
   },
   "file_extension": ".py",
   "mimetype": "text/x-python",
   "name": "python",
   "nbconvert_exporter": "python",
   "pygments_lexer": "ipython3",
   "version": "3.6.8"
  }
 },
 "nbformat": 4,
 "nbformat_minor": 2
}
